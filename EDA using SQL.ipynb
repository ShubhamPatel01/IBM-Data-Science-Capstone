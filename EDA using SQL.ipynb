{
    "cells": [
        {
            "cell_type": "markdown",
            "metadata": {
                "id": "b1oqHGHxLBXg"
            },
            "source": "<center>\n    <img src=\"https://gitlab.com/ibm/skills-network/courses/placeholder101/-/raw/master/labs/module%201/images/IDSNlogo.png\"  width=\"300\" alt=\"cognitiveclass.ai logo\"  />\n</center>\n\n<h1 align=center><font size = 5>Assignment: SQL Notebook for Peer Assignment</font></h1>\n\nEstimated time needed: **60** minutes.\n\n## Introduction\n\nUsing this Python notebook you will:\n\n1.  Understand the Spacex DataSet\n2.  Load the dataset  into the corresponding table in a Db2 database\n3.  Execute SQL queries to answer assignment questions\n"
        },
        {
            "cell_type": "markdown",
            "metadata": {
                "id": "G6kEve88LBXm"
            },
            "source": "## Overview of the DataSet\n\nSpaceX has gained worldwide attention for a series of historic milestones.\n\nIt is the only private company ever to return a spacecraft from low-earth orbit, which it first accomplished in December 2010.\nSpaceX advertises Falcon 9 rocket launches on its website with a cost of 62 million dollars wheras other providers cost upward of 165 million dollars each, much of the savings is because Space X can reuse the first stage.\n\nTherefore if we can determine if the first stage will land, we can determine the cost of a launch.\n\nThis information can be used if an alternate company wants to bid against SpaceX for a rocket launch.\n\nThis dataset includes a record for each payload carried during a SpaceX mission into outer space.\n"
        },
        {
            "cell_type": "markdown",
            "metadata": {
                "id": "Nyh17HSZLBXn"
            },
            "source": "### Download the datasets\n\nThis assignment requires you to load the spacex dataset.\n\nIn many cases the dataset to be analyzed is available as a .CSV (comma separated values) file, perhaps on the internet. Click on the link below to download and save the dataset (.CSV file):\n\n<a href=\"https://cf-courses-data.s3.us.cloud-object-storage.appdomain.cloud/IBM-DS0321EN-SkillsNetwork/labs/module_2/data/Spacex.csv?utm_medium=Exinfluencer&utm_source=Exinfluencer&utm_content=000026UJ&utm_term=10006555&utm_id=NA-SkillsNetwork-Channel-SkillsNetworkCoursesIBMDS0321ENSkillsNetwork26802033-2021-01-01\" target=\"_blank\">Spacex DataSet</a>\n"
        },
        {
            "cell_type": "markdown",
            "metadata": {
                "id": "5e9K--pULBXq"
            },
            "source": "### Store the dataset in database table\n\n**it is highly recommended to manually load the table using the database console LOAD tool in DB2**.\n\n<img src = \"https://cf-courses-data.s3.us.cloud-object-storage.appdomain.cloud/IBM-DS0321EN-SkillsNetwork/labs/module_2/images/spacexload.png\">\n\nNow open the Db2 console, open the LOAD tool, Select / Drag the .CSV file for the  dataset, Next create a New Table, and then follow the steps on-screen instructions to load the data. Name the new table as follows:\n\n**SPACEXDATASET**\n\n**Follow these steps while using old DB2 UI which is having Open Console Screen**\n\n**Note:While loading Spacex dataset, ensure that detect datatypes is disabled. Later click on the pencil icon(edit option).**\n\n1.  Change the Date Format by manually typing DD-MM-YYYY and timestamp format as DD-MM-YYYY HH\\:MM:SS.\n\n    Here you should place the cursor at Date field and manually type as DD-MM-YYYY.\n\n2.  Change the PAYLOAD_MASS\\_\\_KG\\_  datatype  to INTEGER.\n\n<img src = \"https://cf-courses-data.s3.us.cloud-object-storage.appdomain.cloud/IBM-DS0321EN-SkillsNetwork/labs/module_2/images/spacexload2.png\">\n"
        },
        {
            "cell_type": "markdown",
            "metadata": {
                "id": "fqAwqh-CLBXs"
            },
            "source": "**Changes to be considered when having DB2 instance with the new UI having Go to UI screen**\n\n*   Refer to this insruction in this <a href=\"https://cf-courses-data.s3.us.cloud-object-storage.appdomain.cloud/IBMDeveloperSkillsNetwork-DB0201EN-SkillsNetwork/labs/Labs_Coursera_V5/labs/Lab%20-%20Sign%20up%20for%20IBM%20Cloud%20-%20Create%20Db2%20service%20instance%20-%20Get%20started%20with%20the%20Db2%20console/instructional-labs.md.html?utm_medium=Exinfluencer&utm_source=Exinfluencer&utm_content=000026UJ&utm_term=10006555&utm_id=NA-SkillsNetwork-Channel-SkillsNetworkCoursesIBMDS0321ENSkillsNetwork26802033-2021-01-01\">link</a> for viewing  the new  Go to UI screen.\n\n*   Later click on **Data link(below SQL)**  in the Go to UI screen  and click on **Load Data** tab.\n\n*   Later browse for the downloaded spacex file.\n\n<img src=\"https://cf-courses-data.s3.us.cloud-object-storage.appdomain.cloud/IBM-DS0321EN-SkillsNetwork/labs/module_2/images/browsefile.png\" width=\"800\"/>\n\n*   Once done select the schema andload the file.\n\n <img src=\"https://cf-courses-data.s3.us.cloud-object-storage.appdomain.cloud/IBM-DS0321EN-SkillsNetwork/labs/module_2/images/spacexload3.png\" width=\"800\"/>\n"
        },
        {
            "cell_type": "code",
            "execution_count": null,
            "metadata": {
                "colab": {
                    "base_uri": "https://localhost:8080/",
                    "height": 745
                },
                "id": "abpx0s5xLBXu",
                "outputId": "99d39952-32c8-4678-fadb-f2aa150f050f"
            },
            "outputs": [
                {
                    "name": "stdout",
                    "output_type": "stream",
                    "text": "Collecting sqlalchemy==1.3.9\n  Downloading SQLAlchemy-1.3.9.tar.gz (6.0 MB)\n\u001b[K     |\u2588\u2588\u2588\u2588\u2588\u2588\u2588\u2588\u2588\u2588\u2588\u2588\u2588\u2588\u2588\u2588\u2588\u2588\u2588\u2588\u2588\u2588\u2588\u2588\u2588\u2588\u2588\u2588\u2588\u2588\u2588\u2588| 6.0 MB 4.5 MB/s \n\u001b[?25hBuilding wheels for collected packages: sqlalchemy\n  Building wheel for sqlalchemy (setup.py) ... \u001b[?25l\u001b[?25hdone\n  Created wheel for sqlalchemy: filename=SQLAlchemy-1.3.9-cp37-cp37m-linux_x86_64.whl size=1203563 sha256=ee8a6e1aecd6fab97a683079f3dad06416769b2024c34a72a34b7529d0f26c9c\n  Stored in directory: /root/.cache/pip/wheels/03/71/13/010faf12246f72dc76b4150e6e599d13a85b4435e06fb9e51f\nSuccessfully built sqlalchemy\nInstalling collected packages: sqlalchemy\n  Attempting uninstall: sqlalchemy\n    Found existing installation: SQLAlchemy 1.4.27\n    Uninstalling SQLAlchemy-1.4.27:\n      Successfully uninstalled SQLAlchemy-1.4.27\nSuccessfully installed sqlalchemy-1.3.9\n"
                },
                {
                    "data": {
                        "application/vnd.colab-display-data+json": {
                            "pip_warning": {
                                "packages": [
                                    "sqlalchemy"
                                ]
                            }
                        }
                    },
                    "metadata": {},
                    "output_type": "display_data"
                },
                {
                    "name": "stdout",
                    "output_type": "stream",
                    "text": "Requirement already satisfied: ibm_db_sa in /usr/local/lib/python3.7/dist-packages (0.3.7)\nRequirement already satisfied: ibm-db>=2.0.0 in /usr/local/lib/python3.7/dist-packages (from ibm_db_sa) (3.1.0)\nRequirement already satisfied: sqlalchemy>=0.7.3 in /usr/local/lib/python3.7/dist-packages (from ibm_db_sa) (1.3.9)\nRequirement already satisfied: ipython-sql in /usr/local/lib/python3.7/dist-packages (0.3.9)\nRequirement already satisfied: ipython-genutils>=0.1.0 in /usr/local/lib/python3.7/dist-packages (from ipython-sql) (0.2.0)\nRequirement already satisfied: sqlparse in /usr/local/lib/python3.7/dist-packages (from ipython-sql) (0.4.2)\nRequirement already satisfied: ipython>=1.0 in /usr/local/lib/python3.7/dist-packages (from ipython-sql) (5.5.0)\nRequirement already satisfied: prettytable in /usr/local/lib/python3.7/dist-packages (from ipython-sql) (2.4.0)\nRequirement already satisfied: sqlalchemy>=0.6.7 in /usr/local/lib/python3.7/dist-packages (from ipython-sql) (1.3.9)\nRequirement already satisfied: six in /usr/local/lib/python3.7/dist-packages (from ipython-sql) (1.15.0)\nRequirement already satisfied: pexpect in /usr/local/lib/python3.7/dist-packages (from ipython>=1.0->ipython-sql) (4.8.0)\nRequirement already satisfied: setuptools>=18.5 in /usr/local/lib/python3.7/dist-packages (from ipython>=1.0->ipython-sql) (57.4.0)\nRequirement already satisfied: simplegeneric>0.8 in /usr/local/lib/python3.7/dist-packages (from ipython>=1.0->ipython-sql) (0.8.1)\nRequirement already satisfied: prompt-toolkit<2.0.0,>=1.0.4 in /usr/local/lib/python3.7/dist-packages (from ipython>=1.0->ipython-sql) (1.0.18)\nRequirement already satisfied: traitlets>=4.2 in /usr/local/lib/python3.7/dist-packages (from ipython>=1.0->ipython-sql) (5.1.1)\nRequirement already satisfied: decorator in /usr/local/lib/python3.7/dist-packages (from ipython>=1.0->ipython-sql) (4.4.2)\nRequirement already satisfied: pickleshare in /usr/local/lib/python3.7/dist-packages (from ipython>=1.0->ipython-sql) (0.7.5)\nRequirement already satisfied: pygments in /usr/local/lib/python3.7/dist-packages (from ipython>=1.0->ipython-sql) (2.6.1)\nRequirement already satisfied: wcwidth in /usr/local/lib/python3.7/dist-packages (from prompt-toolkit<2.0.0,>=1.0.4->ipython>=1.0->ipython-sql) (0.2.5)\nRequirement already satisfied: ptyprocess>=0.5 in /usr/local/lib/python3.7/dist-packages (from pexpect->ipython>=1.0->ipython-sql) (0.7.0)\nRequirement already satisfied: importlib-metadata in /usr/local/lib/python3.7/dist-packages (from prettytable->ipython-sql) (4.8.2)\nRequirement already satisfied: zipp>=0.5 in /usr/local/lib/python3.7/dist-packages (from importlib-metadata->prettytable->ipython-sql) (3.6.0)\nRequirement already satisfied: typing-extensions>=3.6.4 in /usr/local/lib/python3.7/dist-packages (from importlib-metadata->prettytable->ipython-sql) (4.0.0)\n"
                }
            ],
            "source": "!pip install sqlalchemy==1.3.9\n!pip install ibm_db_sa\n!pip install ipython-sql"
        },
        {
            "cell_type": "markdown",
            "metadata": {
                "id": "T5VvVGcELBXz"
            },
            "source": "### Connect to the database\n\nLet us first load the SQL extension and establish a connection with the database\n"
        },
        {
            "cell_type": "code",
            "execution_count": null,
            "metadata": {
                "id": "jre7toSuLBX0"
            },
            "outputs": [],
            "source": "%load_ext sql"
        },
        {
            "cell_type": "markdown",
            "metadata": {
                "id": "sWtBZoI-LBX1"
            },
            "source": "**DB2 magic in case of old UI service credentials.**\n\nIn the next cell enter your db2 connection string. Recall you created Service Credentials for your Db2 instance before. From the **uri** field of your Db2 service credentials copy everything after db2:// (except the double quote at the end) and paste it in the cell below after ibm_db_sa://\n\n<img src =\"https://cf-courses-data.s3.us.cloud-object-storage.appdomain.cloud/IBMDeveloperSkillsNetwork-DB0201EN-SkillsNetwork/labs/FinalModule_edX/images/URI.jpg\">\n\nin the following format\n\n**%sql ibm_db_sa://my-username:my-password\\@my-hostname:my-port/my-db-name**\n\n**DB2 magic in case of new UI service credentials.**\n\n<img src =\"https://cf-courses-data.s3.us.cloud-object-storage.appdomain.cloud/IBM-DS0321EN-SkillsNetwork/labs/module_2/images/servicecredentials.png\" width=600>  \n\n*   Use the following format.\n\n*   Add security=SSL at the end\n\n**%sql ibm_db_sa://my-username:my-password\\@my-hostname:my-port/my-db-name?security=SSL**\n"
        },
        {
            "cell_type": "code",
            "execution_count": null,
            "metadata": {
                "id": "Mb2bcTkgLBX1"
            },
            "outputs": [],
            "source": ""
        },
        {
            "cell_type": "code",
            "execution_count": null,
            "metadata": {
                "colab": {
                    "base_uri": "https://localhost:8080/",
                    "height": 1000
                },
                "id": "BWnHoJgmLBX2",
                "outputId": "9632218a-f668-46e4-e022-68eb7660ac4f"
            },
            "outputs": [
                {
                    "name": "stdout",
                    "output_type": "stream",
                    "text": "Collecting ibm_db\n  Downloading ibm_db-3.1.0.tar.gz (797 kB)\n\u001b[K     |\u2588\u2588\u2588\u2588\u2588\u2588\u2588\u2588\u2588\u2588\u2588\u2588\u2588\u2588\u2588\u2588\u2588\u2588\u2588\u2588\u2588\u2588\u2588\u2588\u2588\u2588\u2588\u2588\u2588\u2588\u2588\u2588| 797 kB 5.1 MB/s \n\u001b[?25h  Installing build dependencies ... \u001b[?25l\u001b[?25hdone\n  Getting requirements to build wheel ... \u001b[?25l\u001b[?25hdone\n  Installing backend dependencies ... \u001b[?25l\u001b[?25hdone\n    Preparing wheel metadata ... \u001b[?25l\u001b[?25hdone\nCollecting ibm_db_sa\n  Downloading ibm_db_sa-0.3.7.tar.gz (30 kB)\nCollecting sqlalchemy>=0.7.3\n  Downloading SQLAlchemy-1.4.27-cp37-cp37m-manylinux_2_5_x86_64.manylinux1_x86_64.manylinux_2_17_x86_64.manylinux2014_x86_64.whl (1.6 MB)\n\u001b[K     |\u2588\u2588\u2588\u2588\u2588\u2588\u2588\u2588\u2588\u2588\u2588\u2588\u2588\u2588\u2588\u2588\u2588\u2588\u2588\u2588\u2588\u2588\u2588\u2588\u2588\u2588\u2588\u2588\u2588\u2588\u2588\u2588| 1.6 MB 39.4 MB/s \n\u001b[?25hCollecting greenlet!=0.4.17\n  Downloading greenlet-1.1.2-cp37-cp37m-manylinux_2_17_x86_64.manylinux2014_x86_64.whl (150 kB)\n\u001b[K     |\u2588\u2588\u2588\u2588\u2588\u2588\u2588\u2588\u2588\u2588\u2588\u2588\u2588\u2588\u2588\u2588\u2588\u2588\u2588\u2588\u2588\u2588\u2588\u2588\u2588\u2588\u2588\u2588\u2588\u2588\u2588\u2588| 150 kB 74.1 MB/s \n\u001b[?25hCollecting importlib-metadata\n  Downloading importlib_metadata-4.8.2-py3-none-any.whl (17 kB)\nCollecting zipp>=0.5\n  Downloading zipp-3.6.0-py3-none-any.whl (5.3 kB)\nCollecting typing-extensions>=3.6.4\n  Downloading typing_extensions-4.0.0-py3-none-any.whl (22 kB)\nBuilding wheels for collected packages: ibm-db, ibm-db-sa\n  Building wheel for ibm-db (PEP 517) ... \u001b[?25l\u001b[?25hdone\n  Created wheel for ibm-db: filename=ibm_db-3.1.0-cp37-cp37m-linux_x86_64.whl size=41002889 sha256=38e1d9c13e2d69f3945b469fbcbbb5973a890d18ab5178b3881eae21c8a1e3df\n  Stored in directory: /root/.cache/pip/wheels/47/0a/77/b8b3be9a85b29763931206a34e13bcc1764e3ef13548d09797\n  Building wheel for ibm-db-sa (setup.py) ... \u001b[?25l\u001b[?25hdone\n  Created wheel for ibm-db-sa: filename=ibm_db_sa-0.3.7-py3-none-any.whl size=29318 sha256=efe6828c8cb1763535aa1ef4cf9918ba1a8141899f6162c0b856d1e2ce7cfea5\n  Stored in directory: /root/.cache/pip/wheels/4a/e9/e7/0ee334a6cb2f09ec45978e05837b66f59494b482ef38c7ae33\nSuccessfully built ibm-db ibm-db-sa\nInstalling collected packages: zipp, typing-extensions, importlib-metadata, greenlet, sqlalchemy, ibm-db, ibm-db-sa\n  Attempting uninstall: zipp\n    Found existing installation: zipp 3.6.0\n    Uninstalling zipp-3.6.0:\n      Successfully uninstalled zipp-3.6.0\n  Attempting uninstall: typing-extensions\n    Found existing installation: typing-extensions 3.10.0.2\n    Uninstalling typing-extensions-3.10.0.2:\n      Successfully uninstalled typing-extensions-3.10.0.2\n  Attempting uninstall: importlib-metadata\n    Found existing installation: importlib-metadata 4.8.2\n    Uninstalling importlib-metadata-4.8.2:\n      Successfully uninstalled importlib-metadata-4.8.2\n  Attempting uninstall: greenlet\n    Found existing installation: greenlet 1.1.2\n    Uninstalling greenlet-1.1.2:\n      Successfully uninstalled greenlet-1.1.2\n  Attempting uninstall: sqlalchemy\n    Found existing installation: SQLAlchemy 1.4.27\n    Uninstalling SQLAlchemy-1.4.27:\n      Successfully uninstalled SQLAlchemy-1.4.27\n\u001b[31mERROR: pip's dependency resolver does not currently take into account all the packages that are installed. This behaviour is the source of the following dependency conflicts.\narviz 0.11.4 requires typing-extensions<4,>=3.7.4.3, but you have typing-extensions 4.0.0 which is incompatible.\u001b[0m\nSuccessfully installed greenlet-1.1.2 ibm-db-3.1.0 ibm-db-sa-0.3.7 importlib-metadata-4.8.2 sqlalchemy-1.4.27 typing-extensions-4.0.0 zipp-3.6.0\n"
                },
                {
                    "data": {
                        "application/vnd.colab-display-data+json": {
                            "pip_warning": {
                                "packages": [
                                    "greenlet",
                                    "importlib_metadata",
                                    "sqlalchemy",
                                    "zipp"
                                ]
                            }
                        }
                    },
                    "metadata": {},
                    "output_type": "display_data"
                }
            ],
            "source": "!pip install --force-reinstall ibm_db ibm_db_sa"
        },
        {
            "cell_type": "code",
            "execution_count": null,
            "metadata": {
                "colab": {
                    "base_uri": "https://localhost:8080/",
                    "height": 35
                },
                "id": "ik7OcZ6WLBX2",
                "outputId": "19aba6fb-a5c0-447e-ebf0-7f8560e86a9b"
            },
            "outputs": [
                {
                    "data": {
                        "application/vnd.google.colaboratory.intrinsic+json": {
                            "type": "string"
                        },
                        "text/plain": "'Connected: hmk89941@bludb'"
                    },
                    "execution_count": 2,
                    "metadata": {},
                    "output_type": "execute_result"
                }
            ],
            "source": "%sql ibm_db_sa://hmk89941:wL0EGtXIasOeaNfp@55fbc997-9266-4331-afd3-888b05e734c0.bs2io90l08kqb1od8lcg.databases.appdomain.cloud:31929/bludb?security=SSL"
        },
        {
            "cell_type": "markdown",
            "metadata": {
                "id": "jgPb9A_xLBX2"
            },
            "source": "## Tasks\n\nNow write and execute SQL queries to solve the assignment tasks.\n\n### Task 1\n\n##### Display the names of the unique launch sites  in the space mission\n"
        },
        {
            "cell_type": "code",
            "execution_count": null,
            "metadata": {
                "colab": {
                    "base_uri": "https://localhost:8080/",
                    "height": 158
                },
                "id": "bp_KX829LBX3",
                "outputId": "146ac797-bdaf-4133-8386-e9b81e4557fd"
            },
            "outputs": [
                {
                    "name": "stdout",
                    "output_type": "stream",
                    "text": " * ibm_db_sa://hmk89941:***@55fbc997-9266-4331-afd3-888b05e734c0.bs2io90l08kqb1od8lcg.databases.appdomain.cloud:31929/bludb\nDone.\n"
                },
                {
                    "data": {
                        "text/html": "<table>\n    <thead>\n        <tr>\n            <th>launch_site</th>\n        </tr>\n    </thead>\n    <tbody>\n        <tr>\n            <td>CCAFS LC-40</td>\n        </tr>\n        <tr>\n            <td>CCAFS SLC-40</td>\n        </tr>\n        <tr>\n            <td>KSC LC-39A</td>\n        </tr>\n        <tr>\n            <td>VAFB SLC-4E</td>\n        </tr>\n    </tbody>\n</table>",
                        "text/plain": "[('CCAFS LC-40',), ('CCAFS SLC-40',), ('KSC LC-39A',), ('VAFB SLC-4E',)]"
                    },
                    "execution_count": 3,
                    "metadata": {},
                    "output_type": "execute_result"
                }
            ],
            "source": "%sql SELECT DISTINCT(LAUNCH_SITE) FROM SPACEXTBL"
        },
        {
            "cell_type": "markdown",
            "metadata": {
                "id": "qUuCFcpyLBX3"
            },
            "source": "### Task 2\n\n##### Display 5 records where launch sites begin with the string 'CCA'\n"
        },
        {
            "cell_type": "code",
            "execution_count": null,
            "metadata": {
                "colab": {
                    "base_uri": "https://localhost:8080/",
                    "height": 179
                },
                "id": "jAZ7LADNLBX3",
                "outputId": "2b0b312b-202d-4f82-e2b3-41461211b5d3"
            },
            "outputs": [
                {
                    "name": "stdout",
                    "output_type": "stream",
                    "text": " * ibm_db_sa://hmk89941:***@55fbc997-9266-4331-afd3-888b05e734c0.bs2io90l08kqb1od8lcg.databases.appdomain.cloud:31929/bludb\nDone.\n"
                },
                {
                    "data": {
                        "text/html": "<table>\n    <thead>\n        <tr>\n            <th>DATE</th>\n            <th>time__utc_</th>\n            <th>booster_version</th>\n            <th>launch_site</th>\n            <th>payload</th>\n            <th>payload_mass__kg_</th>\n            <th>orbit</th>\n            <th>customer</th>\n            <th>mission_outcome</th>\n            <th>landing__outcome</th>\n        </tr>\n    </thead>\n    <tbody>\n        <tr>\n            <td>2010-06-04</td>\n            <td>18:45:00</td>\n            <td>F9 v1.0  B0003</td>\n            <td>CCAFS LC-40</td>\n            <td>Dragon Spacecraft Qualification Unit</td>\n            <td>0</td>\n            <td>LEO</td>\n            <td>SpaceX</td>\n            <td>Success</td>\n            <td>Failure (parachute)</td>\n        </tr>\n        <tr>\n            <td>2010-12-08</td>\n            <td>15:43:00</td>\n            <td>F9 v1.0  B0004</td>\n            <td>CCAFS LC-40</td>\n            <td>Dragon demo flight C1, two CubeSats, barrel of Brouere cheese</td>\n            <td>0</td>\n            <td>LEO (ISS)</td>\n            <td>NASA (COTS) NRO</td>\n            <td>Success</td>\n            <td>Failure (parachute)</td>\n        </tr>\n        <tr>\n            <td>2012-05-22</td>\n            <td>07:44:00</td>\n            <td>F9 v1.0  B0005</td>\n            <td>CCAFS LC-40</td>\n            <td>Dragon demo flight C2</td>\n            <td>525</td>\n            <td>LEO (ISS)</td>\n            <td>NASA (COTS)</td>\n            <td>Success</td>\n            <td>No attempt</td>\n        </tr>\n        <tr>\n            <td>2012-10-08</td>\n            <td>00:35:00</td>\n            <td>F9 v1.0  B0006</td>\n            <td>CCAFS LC-40</td>\n            <td>SpaceX CRS-1</td>\n            <td>500</td>\n            <td>LEO (ISS)</td>\n            <td>NASA (CRS)</td>\n            <td>Success</td>\n            <td>No attempt</td>\n        </tr>\n        <tr>\n            <td>2013-03-01</td>\n            <td>15:10:00</td>\n            <td>F9 v1.0  B0007</td>\n            <td>CCAFS LC-40</td>\n            <td>SpaceX CRS-2</td>\n            <td>677</td>\n            <td>LEO (ISS)</td>\n            <td>NASA (CRS)</td>\n            <td>Success</td>\n            <td>No attempt</td>\n        </tr>\n    </tbody>\n</table>",
                        "text/plain": "[(datetime.date(2010, 6, 4), datetime.time(18, 45), 'F9 v1.0  B0003', 'CCAFS LC-40', 'Dragon Spacecraft Qualification Unit', 0, 'LEO', 'SpaceX', 'Success', 'Failure (parachute)'),\n (datetime.date(2010, 12, 8), datetime.time(15, 43), 'F9 v1.0  B0004', 'CCAFS LC-40', 'Dragon demo flight C1, two CubeSats, barrel of Brouere cheese', 0, 'LEO (ISS)', 'NASA (COTS) NRO', 'Success', 'Failure (parachute)'),\n (datetime.date(2012, 5, 22), datetime.time(7, 44), 'F9 v1.0  B0005', 'CCAFS LC-40', 'Dragon demo flight C2', 525, 'LEO (ISS)', 'NASA (COTS)', 'Success', 'No attempt'),\n (datetime.date(2012, 10, 8), datetime.time(0, 35), 'F9 v1.0  B0006', 'CCAFS LC-40', 'SpaceX CRS-1', 500, 'LEO (ISS)', 'NASA (CRS)', 'Success', 'No attempt'),\n (datetime.date(2013, 3, 1), datetime.time(15, 10), 'F9 v1.0  B0007', 'CCAFS LC-40', 'SpaceX CRS-2', 677, 'LEO (ISS)', 'NASA (CRS)', 'Success', 'No attempt')]"
                    },
                    "execution_count": 4,
                    "metadata": {},
                    "output_type": "execute_result"
                }
            ],
            "source": "%sql SELECT * FROM SPACEXTBL WHERE LAUNCH_SITE LIKE 'CCA%' LIMIT 5"
        },
        {
            "cell_type": "markdown",
            "metadata": {
                "id": "I_9cSheJLBX3"
            },
            "source": "### Task 3\n\n##### Display the total payload mass carried by boosters launched by NASA (CRS)\n"
        },
        {
            "cell_type": "code",
            "execution_count": null,
            "metadata": {
                "colab": {
                    "base_uri": "https://localhost:8080/",
                    "height": 95
                },
                "id": "-2JvgRGHLBX3",
                "outputId": "29b663eb-f440-4515-b446-11c98689685c"
            },
            "outputs": [
                {
                    "name": "stdout",
                    "output_type": "stream",
                    "text": " * ibm_db_sa://hmk89941:***@55fbc997-9266-4331-afd3-888b05e734c0.bs2io90l08kqb1od8lcg.databases.appdomain.cloud:31929/bludb\nDone.\n"
                },
                {
                    "data": {
                        "text/html": "<table>\n    <thead>\n        <tr>\n            <th>1</th>\n        </tr>\n    </thead>\n    <tbody>\n        <tr>\n            <td>45596</td>\n        </tr>\n    </tbody>\n</table>",
                        "text/plain": "[(45596,)]"
                    },
                    "execution_count": 5,
                    "metadata": {},
                    "output_type": "execute_result"
                }
            ],
            "source": "%sql SELECT SUM(payload_mass__kg_) FROM SPACEXTBL WHERE customer = 'NASA (CRS)'"
        },
        {
            "cell_type": "markdown",
            "metadata": {
                "id": "oh_OxY-wLBX4"
            },
            "source": "### Task 4\n\n##### Display average payload mass carried by booster version F9 v1.1\n"
        },
        {
            "cell_type": "code",
            "execution_count": null,
            "metadata": {
                "colab": {
                    "base_uri": "https://localhost:8080/",
                    "height": 95
                },
                "id": "zVyMCR4iLBX4",
                "outputId": "90697817-e318-4256-b1d9-f03a9ef34e48"
            },
            "outputs": [
                {
                    "name": "stdout",
                    "output_type": "stream",
                    "text": " * ibm_db_sa://hmk89941:***@55fbc997-9266-4331-afd3-888b05e734c0.bs2io90l08kqb1od8lcg.databases.appdomain.cloud:31929/bludb\nDone.\n"
                },
                {
                    "data": {
                        "text/html": "<table>\n    <thead>\n        <tr>\n            <th>1</th>\n        </tr>\n    </thead>\n    <tbody>\n        <tr>\n            <td>2534</td>\n        </tr>\n    </tbody>\n</table>",
                        "text/plain": "[(2534,)]"
                    },
                    "execution_count": 6,
                    "metadata": {},
                    "output_type": "execute_result"
                }
            ],
            "source": "%sql SELECT AVG(payload_mass__kg_) FROM SPACEXTBL WHERE booster_version LIKE 'F9 v1.1%'"
        },
        {
            "cell_type": "markdown",
            "metadata": {
                "id": "q9wjvMQkLBX4"
            },
            "source": "### Task 5\n\n##### List the date when the first successful landing outcome in ground pad was acheived.\n\n*Hint:Use min function*\n"
        },
        {
            "cell_type": "code",
            "execution_count": null,
            "metadata": {
                "colab": {
                    "base_uri": "https://localhost:8080/",
                    "height": 95
                },
                "id": "gK9O48npLBX4",
                "outputId": "07ff21ae-b9d5-4ea1-c03c-35ebda0bc845"
            },
            "outputs": [
                {
                    "name": "stdout",
                    "output_type": "stream",
                    "text": " * ibm_db_sa://hmk89941:***@55fbc997-9266-4331-afd3-888b05e734c0.bs2io90l08kqb1od8lcg.databases.appdomain.cloud:31929/bludb\nDone.\n"
                },
                {
                    "data": {
                        "text/html": "<table>\n    <thead>\n        <tr>\n            <th>1</th>\n        </tr>\n    </thead>\n    <tbody>\n        <tr>\n            <td>2018-07-22</td>\n        </tr>\n    </tbody>\n</table>",
                        "text/plain": "[(datetime.date(2018, 7, 22),)]"
                    },
                    "execution_count": 8,
                    "metadata": {},
                    "output_type": "execute_result"
                }
            ],
            "source": "%sql SELECT MIN(Date) FROM SPACEXTBL WHERE \"LANDING__OUTCOME\" = 'Success'"
        },
        {
            "cell_type": "markdown",
            "metadata": {
                "id": "L-P5t9o5LBX5"
            },
            "source": "### Task 6\n\n##### List the names of the boosters which have success in drone ship and have payload mass greater than 4000 but less than 6000\n"
        },
        {
            "cell_type": "code",
            "execution_count": null,
            "metadata": {
                "colab": {
                    "base_uri": "https://localhost:8080/",
                    "height": 158
                },
                "id": "yCNeWohgLBX5",
                "outputId": "e677a887-66d2-46aa-e4ff-89c4a8115a9f"
            },
            "outputs": [
                {
                    "name": "stdout",
                    "output_type": "stream",
                    "text": " * ibm_db_sa://hmk89941:***@55fbc997-9266-4331-afd3-888b05e734c0.bs2io90l08kqb1od8lcg.databases.appdomain.cloud:31929/bludb\nDone.\n"
                },
                {
                    "data": {
                        "text/html": "<table>\n    <thead>\n        <tr>\n            <th>booster_version</th>\n        </tr>\n    </thead>\n    <tbody>\n        <tr>\n            <td>F9 FT B1022</td>\n        </tr>\n        <tr>\n            <td>F9 FT B1026</td>\n        </tr>\n        <tr>\n            <td>F9 FT  B1021.2</td>\n        </tr>\n        <tr>\n            <td>F9 FT  B1031.2</td>\n        </tr>\n    </tbody>\n</table>",
                        "text/plain": "[('F9 FT B1022',), ('F9 FT B1026',), ('F9 FT  B1021.2',), ('F9 FT  B1031.2',)]"
                    },
                    "execution_count": 9,
                    "metadata": {},
                    "output_type": "execute_result"
                }
            ],
            "source": "%sql SELECT booster_version FROM SPACEXTBL WHERE \"LANDING__OUTCOME\" = 'Success (drone ship)' AND payload_mass__kg_ BETWEEN 4000 AND 6000"
        },
        {
            "cell_type": "markdown",
            "metadata": {
                "id": "3tvagtNGLBX5"
            },
            "source": "### Task 7\n\n##### List the total number of successful and failure mission outcomes\n"
        },
        {
            "cell_type": "code",
            "execution_count": null,
            "metadata": {
                "colab": {
                    "base_uri": "https://localhost:8080/",
                    "height": 137
                },
                "id": "GCyglAE3LBX5",
                "outputId": "8de93dc2-3214-49d2-f6ab-93c1c6be0ab3"
            },
            "outputs": [
                {
                    "name": "stdout",
                    "output_type": "stream",
                    "text": " * ibm_db_sa://hmk89941:***@55fbc997-9266-4331-afd3-888b05e734c0.bs2io90l08kqb1od8lcg.databases.appdomain.cloud:31929/bludb\nDone.\n"
                },
                {
                    "data": {
                        "text/html": "<table>\n    <thead>\n        <tr>\n            <th>mission_outcome</th>\n            <th>SUM</th>\n        </tr>\n    </thead>\n    <tbody>\n        <tr>\n            <td>Failure (in flight)</td>\n            <td>1</td>\n        </tr>\n        <tr>\n            <td>Success</td>\n            <td>99</td>\n        </tr>\n        <tr>\n            <td>Success (payload status unclear)</td>\n            <td>1</td>\n        </tr>\n    </tbody>\n</table>",
                        "text/plain": "[('Failure (in flight)', 1),\n ('Success', 99),\n ('Success (payload status unclear)', 1)]"
                    },
                    "execution_count": 15,
                    "metadata": {},
                    "output_type": "execute_result"
                }
            ],
            "source": "%sql SELECT DISTINCT(mission_outcome), COUNT(mission_outcome) as SUM FROM SPACEXTBL GROUP BY Mission_Outcome"
        },
        {
            "cell_type": "markdown",
            "metadata": {
                "id": "wR_xzSuWLBX5"
            },
            "source": "### Task 8\n\n##### List the   names of the booster_versions which have carried the maximum payload mass. Use a subquery\n"
        },
        {
            "cell_type": "code",
            "execution_count": null,
            "metadata": {
                "colab": {
                    "base_uri": "https://localhost:8080/",
                    "height": 326
                },
                "id": "zpMJunc9LBX5",
                "outputId": "e7a5c3b6-54cc-4b65-b090-a3ff02648735"
            },
            "outputs": [
                {
                    "name": "stdout",
                    "output_type": "stream",
                    "text": " * ibm_db_sa://hmk89941:***@55fbc997-9266-4331-afd3-888b05e734c0.bs2io90l08kqb1od8lcg.databases.appdomain.cloud:31929/bludb\nDone.\n"
                },
                {
                    "data": {
                        "text/html": "<table>\n    <thead>\n        <tr>\n            <th>booster_version</th>\n        </tr>\n    </thead>\n    <tbody>\n        <tr>\n            <td>F9 B5 B1048.4</td>\n        </tr>\n        <tr>\n            <td>F9 B5 B1048.5</td>\n        </tr>\n        <tr>\n            <td>F9 B5 B1049.4</td>\n        </tr>\n        <tr>\n            <td>F9 B5 B1049.5</td>\n        </tr>\n        <tr>\n            <td>F9 B5 B1049.7</td>\n        </tr>\n        <tr>\n            <td>F9 B5 B1051.3</td>\n        </tr>\n        <tr>\n            <td>F9 B5 B1051.4</td>\n        </tr>\n        <tr>\n            <td>F9 B5 B1051.6</td>\n        </tr>\n        <tr>\n            <td>F9 B5 B1056.4</td>\n        </tr>\n        <tr>\n            <td>F9 B5 B1058.3</td>\n        </tr>\n        <tr>\n            <td>F9 B5 B1060.2</td>\n        </tr>\n        <tr>\n            <td>F9 B5 B1060.3</td>\n        </tr>\n    </tbody>\n</table>",
                        "text/plain": "[('F9 B5 B1048.4',),\n ('F9 B5 B1048.5',),\n ('F9 B5 B1049.4',),\n ('F9 B5 B1049.5',),\n ('F9 B5 B1049.7',),\n ('F9 B5 B1051.3',),\n ('F9 B5 B1051.4',),\n ('F9 B5 B1051.6',),\n ('F9 B5 B1056.4',),\n ('F9 B5 B1058.3',),\n ('F9 B5 B1060.2',),\n ('F9 B5 B1060.3',)]"
                    },
                    "execution_count": 16,
                    "metadata": {},
                    "output_type": "execute_result"
                }
            ],
            "source": "%sql SELECT DISTINCT(booster_version) FROM SPACEXTBL WHERE payload_mass__kg_ = (SELECT MAX(payload_mass__kg_) FROM SPACEXTBL)"
        },
        {
            "cell_type": "markdown",
            "metadata": {
                "id": "ZtdjSsRDLBX6"
            },
            "source": "### Task 9\n\n##### List the failed landing_outcomes in drone ship, their booster versions, and launch site names for in year 2015\n"
        },
        {
            "cell_type": "code",
            "execution_count": null,
            "metadata": {
                "colab": {
                    "base_uri": "https://localhost:8080/",
                    "height": 116
                },
                "id": "q6nfP_AmLBX6",
                "outputId": "56c2eead-a877-4003-84a8-ab2092fc3863"
            },
            "outputs": [
                {
                    "name": "stdout",
                    "output_type": "stream",
                    "text": " * ibm_db_sa://hmk89941:***@55fbc997-9266-4331-afd3-888b05e734c0.bs2io90l08kqb1od8lcg.databases.appdomain.cloud:31929/bludb\nDone.\n"
                },
                {
                    "data": {
                        "text/html": "<table>\n    <thead>\n        <tr>\n            <th>landing__outcome</th>\n            <th>booster_version</th>\n            <th>launch_site</th>\n        </tr>\n    </thead>\n    <tbody>\n        <tr>\n            <td>Failure (drone ship)</td>\n            <td>F9 v1.1 B1012</td>\n            <td>CCAFS LC-40</td>\n        </tr>\n        <tr>\n            <td>Failure (drone ship)</td>\n            <td>F9 v1.1 B1015</td>\n            <td>CCAFS LC-40</td>\n        </tr>\n    </tbody>\n</table>",
                        "text/plain": "[('Failure (drone ship)', 'F9 v1.1 B1012', 'CCAFS LC-40'),\n ('Failure (drone ship)', 'F9 v1.1 B1015', 'CCAFS LC-40')]"
                    },
                    "execution_count": 18,
                    "metadata": {},
                    "output_type": "execute_result"
                }
            ],
            "source": "%%sql \nSELECT LANDING__OUTCOME, BOOSTER_VERSION, LAUNCH_SITE \nFROM SPACEXTBL \nWHERE LANDING__OUTCOME = 'Failure (drone ship)'\nAND YEAR(DATE) = 2015;"
        },
        {
            "cell_type": "markdown",
            "metadata": {
                "id": "9ViT0_JwLBX6"
            },
            "source": "### Task 10\n\n##### Rank the count of landing outcomes (such as Failure (drone ship) or Success (ground pad)) between the date 2010-06-04 and 2017-03-20, in descending order\n"
        },
        {
            "cell_type": "code",
            "execution_count": null,
            "metadata": {
                "colab": {
                    "base_uri": "https://localhost:8080/",
                    "height": 242
                },
                "id": "eKjgh2ngLBX6",
                "outputId": "e2dcf25b-b44e-4322-ee63-da7673b30429"
            },
            "outputs": [
                {
                    "name": "stdout",
                    "output_type": "stream",
                    "text": " * ibm_db_sa://hmk89941:***@55fbc997-9266-4331-afd3-888b05e734c0.bs2io90l08kqb1od8lcg.databases.appdomain.cloud:31929/bludb\nDone.\n"
                },
                {
                    "data": {
                        "text/html": "<table>\n    <thead>\n        <tr>\n            <th>COUNT</th>\n            <th>landing__outcome</th>\n        </tr>\n    </thead>\n    <tbody>\n        <tr>\n            <td>10</td>\n            <td>No attempt</td>\n        </tr>\n        <tr>\n            <td>5</td>\n            <td>Failure (drone ship)</td>\n        </tr>\n        <tr>\n            <td>5</td>\n            <td>Success (drone ship)</td>\n        </tr>\n        <tr>\n            <td>3</td>\n            <td>Controlled (ocean)</td>\n        </tr>\n        <tr>\n            <td>3</td>\n            <td>Success (ground pad)</td>\n        </tr>\n        <tr>\n            <td>2</td>\n            <td>Failure (parachute)</td>\n        </tr>\n        <tr>\n            <td>2</td>\n            <td>Uncontrolled (ocean)</td>\n        </tr>\n        <tr>\n            <td>1</td>\n            <td>Precluded (drone ship)</td>\n        </tr>\n    </tbody>\n</table>",
                        "text/plain": "[(10, 'No attempt'),\n (5, 'Failure (drone ship)'),\n (5, 'Success (drone ship)'),\n (3, 'Controlled (ocean)'),\n (3, 'Success (ground pad)'),\n (2, 'Failure (parachute)'),\n (2, 'Uncontrolled (ocean)'),\n (1, 'Precluded (drone ship)')]"
                    },
                    "execution_count": 19,
                    "metadata": {},
                    "output_type": "execute_result"
                }
            ],
            "source": "%%sql SELECT COUNT(LANDING__OUTCOME) AS COUNT, LANDING__OUTCOME\nFROM (SELECT * FROM SPACEXTBL WHERE DATE BETWEEN '2010-06-04' AND '2017-03-20')\nGROUP BY LANDING__OUTCOME\nORDER BY COUNT DESC;"
        },
        {
            "cell_type": "markdown",
            "metadata": {
                "id": "8Jtjbvx2LBX6"
            },
            "source": "### Reference Links\n\n*   <a href =\"https://cf-courses-data.s3.us.cloud-object-storage.appdomain.cloud/IBMDeveloperSkillsNetwork-DB0201EN-SkillsNetwork/labs/Labs_Coursera_V5/labs/Lab%20-%20String%20Patterns%20-%20Sorting%20-%20Grouping/instructional-labs.md.html?utm_medium=Exinfluencer&utm_source=Exinfluencer&utm_content=000026UJ&utm_term=10006555&utm_id=NA-SkillsNetwork-Channel-SkillsNetworkCoursesIBMDS0321ENSkillsNetwork26802033-2021-01-01&origin=www.coursera.org\">Hands-on Lab : String Patterns, Sorting and Grouping</a>\n\n*   <a  href=\"https://cf-courses-data.s3.us.cloud-object-storage.appdomain.cloud/IBMDeveloperSkillsNetwork-DB0201EN-SkillsNetwork/labs/Labs_Coursera_V5/labs/Lab%20-%20Built-in%20functions%20/Hands-on_Lab__Built-in_Functions.md.html?utm_medium=Exinfluencer&utm_source=Exinfluencer&utm_content=000026UJ&utm_term=10006555&utm_id=NA-SkillsNetwork-Channel-SkillsNetworkCoursesIBMDS0321ENSkillsNetwork26802033-2021-01-01&origin=www.coursera.org\">Hands-on Lab: Built-in functions</a>\n\n*   <a  href=\"https://cf-courses-data.s3.us.cloud-object-storage.appdomain.cloud/IBMDeveloperSkillsNetwork-DB0201EN-SkillsNetwork/labs/Labs_Coursera_V5/labs/Lab%20-%20Sub-queries%20and%20Nested%20SELECTs%20/instructional-labs.md.html?utm_medium=Exinfluencer&utm_source=Exinfluencer&utm_content=000026UJ&utm_term=10006555&utm_id=NA-SkillsNetwork-Channel-SkillsNetworkCoursesIBMDS0321ENSkillsNetwork26802033-2021-01-01&origin=www.coursera.org\">Hands-on Lab : Sub-queries and Nested SELECT Statements</a>\n\n*   <a href=\"https://cf-courses-data.s3.us.cloud-object-storage.appdomain.cloud/IBMDeveloperSkillsNetwork-DB0201EN-SkillsNetwork/labs/Module%205/DB0201EN-Week3-1-3-SQLmagic.ipynb?utm_medium=Exinfluencer&utm_source=Exinfluencer&utm_content=000026UJ&utm_term=10006555&utm_id=NA-SkillsNetwork-Channel-SkillsNetworkCoursesIBMDS0321ENSkillsNetwork26802033-2021-01-01\">Hands-on Tutorial: Accessing Databases with SQL magic</a>\n\n*   <a href= \"https://cf-courses-data.s3.us.cloud-object-storage.appdomain.cloud/IBMDeveloperSkillsNetwork-DB0201EN-SkillsNetwork/labs/Module%205/DB0201EN-Week3-1-4-Analyzing.ipynb?utm_medium=Exinfluencer&utm_source=Exinfluencer&utm_content=000026UJ&utm_term=10006555&utm_id=NA-SkillsNetwork-Channel-SkillsNetworkCoursesIBMDS0321ENSkillsNetwork26802033-2021-01-01\">Hands-on Lab: Analyzing a real World Data Set</a>\n"
        },
        {
            "cell_type": "markdown",
            "metadata": {
                "id": "oIHBYpkzLBX7"
            },
            "source": "## Author(s)\n\n<h4> Lakshmi Holla </h4>\n"
        },
        {
            "cell_type": "markdown",
            "metadata": {
                "id": "l5O-acxsLBX7"
            },
            "source": "## Other Contributors\n\n<h4> Rav Ahuja </h4>\n"
        },
        {
            "cell_type": "markdown",
            "metadata": {
                "id": "EP7Sp368LBX7"
            },
            "source": "## Change log\n\n| Date       | Version | Changed by    | Change Description        |\n| ---------- | ------- | ------------- | ------------------------- |\n| 2021-10-12 | 0.4     | Lakshmi Holla | Changed markdown          |\n| 2021-08-24 | 0.3     | Lakshmi Holla | Added library update      |\n| 2021-07-09 | 0.2     | Lakshmi Holla | Changes made in magic sql |\n| 2021-05-20 | 0.1     | Lakshmi Holla | Created Initial Version   |\n"
        },
        {
            "cell_type": "markdown",
            "metadata": {
                "id": "uOg983qVLBX7"
            },
            "source": "## <h3 align=\"center\"> \u00a9 IBM Corporation 2021. All rights reserved. <h3/>\n"
        }
    ],
    "metadata": {
        "colab": {
            "collapsed_sections": [],
            "name": "jupyter-labs-eda-sql-coursera.ipynb",
            "provenance": []
        },
        "kernelspec": {
            "display_name": "Python 3.8",
            "language": "python",
            "name": "python3"
        },
        "language_info": {
            "codemirror_mode": {
                "name": "ipython",
                "version": 3
            },
            "file_extension": ".py",
            "mimetype": "text/x-python",
            "name": "python",
            "nbconvert_exporter": "python",
            "pygments_lexer": "ipython3",
            "version": "3.8.12"
        }
    },
    "nbformat": 4,
    "nbformat_minor": 1
}